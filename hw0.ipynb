{
  "nbformat": 4,
  "nbformat_minor": 0,
  "metadata": {
    "accelerator": "GPU",
    "colab": {
      "name": "hw0.ipynb",
      "provenance": [],
      "collapsed_sections": [],
      "include_colab_link": true
    },
    "kernelspec": {
      "display_name": "Python 3",
      "language": "python",
      "name": "python3"
    },
    "language_info": {
      "codemirror_mode": {
        "name": "ipython",
        "version": 3
      },
      "file_extension": ".py",
      "mimetype": "text/x-python",
      "name": "python",
      "nbconvert_exporter": "python",
      "pygments_lexer": "ipython3",
      "version": "3.7.2"
    }
  },
  "cells": [
    {
      "cell_type": "markdown",
      "metadata": {
        "id": "view-in-github",
        "colab_type": "text"
      },
      "source": [
        "<a href=\"https://colab.research.google.com/github/Shunl1996/CIS520/blob/hw0/hw0.ipynb\" target=\"_parent\"><img src=\"https://colab.research.google.com/assets/colab-badge.svg\" alt=\"Open In Colab\"/></a>"
      ]
    },
    {
      "cell_type": "markdown",
      "metadata": {
        "colab_type": "text",
        "id": "IS6040l1wNGA"
      },
      "source": [
        "# Homework 0\n",
        "\n",
        "**Due Monday September 14th, 11:59 pm.**\n",
        "\n",
        "**This is an individual assignment.**\n",
        "\n",
        "**Submit a link to your `hw0.ipynb` file in colab to Gradescope.**"
      ]
    },
    {
      "cell_type": "markdown",
      "metadata": {
        "colab_type": "text",
        "id": "qUe2IQJt1YOK"
      },
      "source": [
        "\n",
        "## Python Resources\n",
        "\n",
        "We assume reasonable Python programming skills as a pre-requisite for this course. We will be using **Python 3**. If you need a refresher, the following resources are useful:\n",
        "\n",
        "- Quick syntax guide: [Learn Python3 in Y Minutes](https://learnxinyminutes.com/docs/python3/)\n",
        "- A more comprehensive course: [Google’s Python Class](https://developers.google.com/edu/python/)\n",
        "\n",
        "Additional resources can be found on the [course wiki](https://alliance.seas.upenn.edu/~cis520/dynamic/2019/wiki/index.php?n=Resources.Resources).\n"
      ]
    },
    {
      "cell_type": "markdown",
      "metadata": {
        "colab_type": "text",
        "id": "1V2uBRdlu3M8"
      },
      "source": [
        "## Setting Up Your Environment\n",
        "\n",
        "We will primarily be using the following Python modules:\n",
        "\n",
        "- [Numpy](https://www.numpy.org/) for scientific computing\n",
        "- [Scikit-Learn](https://scikit-learn.org/stable/) for machine learning \n",
        "- [Matplotlib](https://matplotlib.org/) for plotting and visualization\n",
        "\n",
        "**Note that Google Colab instances have these modules installed out of the box.** If you want to stand up your own Python development environment, it should at least have these three modules and their dependencies installed. This is typically done by running the [`pip install`](https://pypi.org/project/pip/) command. For further environment management:\n",
        "\n",
        "- [Anaconda](https://www.anaconda.com/distribution/) provides a full data science platform, including Jupyter, as well as its own package manager, [conda](https://conda.io/projects/conda/en/latest/)\n",
        "- [virtualenv](https://virtualenv.pypa.io/en/latest/) is a lightweight but flexible environment management tool"
      ]
    },
    {
      "cell_type": "markdown",
      "metadata": {
        "colab_type": "text",
        "id": "t2zlHQRDsCpy"
      },
      "source": [
        "## Sample Functions: Breast Cancer Classification\n",
        "\n",
        "Confirm that you can run jupyter notebooks with the above modules by uncommenting the implementations of `train_decision_tree()` and `plot_decision_boundary()` and running the sandbox code.\n",
        "\n",
        "*Tip: To comment/uncomment a block of selected text, highlight the text and press \"Ctl-/\".*"
      ]
    },
    {
      "cell_type": "code",
      "metadata": {
        "colab_type": "code",
        "id": "k4C_8K3Crm1A",
        "colab": {}
      },
      "source": [
        "import numpy as np\n",
        "from sklearn.tree import DecisionTreeClassifier\n",
        "import matplotlib.pyplot as plt\n",
        "\n",
        "def train_decision_tree(X, y, d=None):\n",
        "  \"\"\"\n",
        "  Trains a decision tree classifier on the given X, y data with the specified \n",
        "  tree depth d.\n",
        "  \n",
        "  Args:\n",
        "    X ((n,p) np.ndarray): The input Xs, which are in an n (number of samples) by\n",
        "                          p (number of features) matrix\n",
        "    y ((n,) np.ndarray): The input ys, which are in an n length array\n",
        "    d (int): The maximum depth of the tree. A value of None means no restrictions\n",
        "             on the depth of the tree.\n",
        "  \n",
        "  Returns:\n",
        "    DecisionTreeClassifier: the trained decision tree\n",
        "  \"\"\"\n",
        "  clf = DecisionTreeClassifier(max_depth=d, criterion=\"entropy\")\n",
        "  clf.fit(X,y)\n",
        "   \n",
        "  return clf\n",
        "\n",
        "\n",
        "def plot_decision_boundary(X, y, clf, title, xlabel, ylabel, classes):\n",
        "  \"\"\"\n",
        "  Plots the decision boundary of the given classifier as well as the datapoints.\n",
        "  The shaded area will be the classifier's predicted decision boundaries, while\n",
        "  the scatterplot will be colored by the true labels.\n",
        "  \n",
        "  Args:\n",
        "    X ((n, 2) np.ndarray): The input feature matrix -- here we assume two features\n",
        "    y ((n,) np.ndarray): The input ys, which are in an n length array\n",
        "    title (str): title of the plot\n",
        "    xlabel (str): plot's x-axis label -- the first feature name\n",
        "    ylabel (str): plot's y-axis label -- the second feature name\n",
        "    classes (list): the target class names -- here we assume binary labels\n",
        "  \n",
        "  Returns:\n",
        "    None\n",
        "  \n",
        "  \"\"\"\n",
        "  # # Plot the decision boundary by assigning a color to each point in the mesh.\n",
        "  # # Note that x and y here refer to coordinates, not our features and labels.\n",
        "  x_min, x_max = (X[:, 0].min() - 1, X[:, 0].max() + 1)\n",
        "  y_min, y_max = (X[:, 1].min() - 1, X[:, 1].max() + 1)\n",
        "  xx, yy = np.meshgrid(np.arange(x_min, x_max, 0.03),\n",
        "                       np.arange(y_min, y_max, 0.03))\n",
        "  \n",
        "  # ravel() \"flattens\" the array in row-major order into 1D\n",
        "  Z = clf.predict(np.c_[xx.ravel(), yy.ravel()])\n",
        "\n",
        "  # Put the result into a color plot\n",
        "  Z = Z.reshape(xx.shape)\n",
        "  plt.pcolormesh(xx, yy, Z, cmap='RdBu', label=\"test\")\n",
        "\n",
        "  # plot the datapoints themselves\n",
        "  X_0 = X[y == 0, :]\n",
        "  X_1 = X[y == 1, :]\n",
        "  y_0 = y[y == 0]\n",
        "  y_1 = y[y == 1]\n",
        "\n",
        "  plt.scatter(X_0[:, 0], X_0[:, 1], c='red', edgecolor='black', label=classes[0])\n",
        "  plt.scatter(X_1[:, 0], X_1[:, 1], c='blue', edgecolor='black', label=classes[1])\n",
        "  \n",
        "  # add labels\n",
        "  plt.xlabel(xlabel)\n",
        "  plt.ylabel(ylabel)\n",
        "  plt.title(title)\n",
        "  plt.legend()"
      ],
      "execution_count": 1,
      "outputs": []
    },
    {
      "cell_type": "markdown",
      "metadata": {
        "colab_type": "text",
        "id": "E0cJQc1n-Pdw"
      },
      "source": [
        "### Code Sandbox\n",
        "\n",
        "On each assignment, feel free to experiment and play with the code --- testing and verification is an important part of code development. **If there is an `.py` submission for the assignment however, be sure to comment out all your sandbox code before downloading and submitting.**\n",
        "\n",
        "For example, after uncommenting the functions above, try running the code below to visualize the decision tree boundaries. "
      ]
    },
    {
      "cell_type": "code",
      "metadata": {
        "colab_type": "code",
        "id": "Rh-oTMSR73XS",
        "colab": {
          "base_uri": "https://localhost:8080/",
          "height": 295
        },
        "outputId": "e10796a6-6309-4321-deb7-acadb1200190"
      },
      "source": [
        "# # Feel free to play with the code! Just be sure to comment it all out before submitting\n",
        "# from sklearn.datasets import load_breast_cancer\n",
        "# from sklearn.model_selection import train_test_split\n",
        "\n",
        "# bc_data = load_breast_cancer()\n",
        "# # We'll only use the first two features, mean radius and mean texture\n",
        "# X = bc_data['data'][:, :2]\n",
        "# y = bc_data['target']\n",
        "\n",
        "# # We'll want to separate out a training and testing set\n",
        "# X_train, X_test, y_train, y_test = train_test_split(X, y, test_size=0.2, random_state=0)\n",
        "\n",
        "# # What happens to the decision boundary if we change the max depth of the tree?\n",
        "# clf = train_decision_tree(X_train,y_train, 3)\n",
        "\n",
        "# # shaded areas are the decision tree boundaries, dots are their true labels\n",
        "# plot_decision_boundary(X_test, y_test, clf, \n",
        "#                        \"Decision Tree Boundaries for Breast Cancer\", \n",
        "#                        bc_data['feature_names'][0], \n",
        "#                        bc_data['feature_names'][1], \n",
        "#                        bc_data['target_names'])"
      ],
      "execution_count": 10,
      "outputs": [
        {
          "output_type": "display_data",
          "data": {
            "image/png": "[encoded data removed]",
            "text/plain": [
              "<Figure size 432x288 with 1 Axes>"
            ]
          },
          "metadata": {
            "tags": [],
            "needs_background": "light"
          }
        }
      ]
    },
    {
      "cell_type": "markdown",
      "metadata": {
        "colab_type": "text",
        "id": "5p434umA1eGI"
      },
      "source": [
        "## Turning it in\n",
        "\n",
        "1. Remember to save the plot output from the sandbox code and include it as a figure in your latex submission.\n",
        "  \n",
        "2. Submit a link to your colab notebook on gradescope. You can get a shareable link to the notebook by:\n",
        "  - clicking on the share button present present in the top right corner and then click on \"copy link\" option. \n",
        "  \n",
        "  Make sure the permissions are set such that anyone in the \"University of Pennsylvania SEAS\" group should be able to access the notebook. "
      ]
    }
  ]
}